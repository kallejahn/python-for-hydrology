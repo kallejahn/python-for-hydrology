{
 "cells": [
  {
   "cell_type": "code",
   "execution_count": null,
   "metadata": {},
   "outputs": [],
   "source": [
    "import sys\n",
    "sys.path.insert(1,'../../dependencies')\n",
    "from pathlib import Path\n",
    "import itertools\n",
    "\n",
    "import numpy as np\n",
    "import geopandas as gpd\n",
    "import pandas as pd\n",
    "import datetime as dt\n",
    "\n",
    "import matplotlib as mpl\n",
    "import matplotlib.pyplot as plt\n",
    "from mpl_toolkits.axes_grid1.inset_locator import inset_axes\n",
    "from mpl_toolkits.axes_grid1 import make_axes_locatable\n",
    "from mpl_toolkits.axes_grid1.anchored_artists import AnchoredSizeBar\n",
    "from matplotlib.transforms import offset_copy\n",
    "from matplotlib.patches import Patch\n",
    "from matplotlib.lines import Line2D\n",
    "from matplotlib.ticker import FuncFormatter\n",
    "\n",
    "import flopy\n",
    "import rasterio\n",
    "from rasterio.io import MemoryFile\n",
    "from shapely.geometry import Polygon\n",
    "\n",
    "from dataretrieval import nwis\n",
    "\n",
    "import cartopy\n",
    "import cartopy.crs as ccrs\n",
    "import cartopy.feature as cfeature\n",
    "from cartopy.mpl.ticker import LongitudeFormatter, LatitudeFormatter\n",
    "from cartopy_addons.scalebar import draw_scale\n",
    "from cartopy_addons.annotations import label_line\n",
    "\n",
    "#  Suppress warnings issued by Cartopy that come up WRT Shapely 2.0\n",
    "import warnings\n",
    "warnings.filterwarnings('ignore')\n"
   ]
  },
  {
   "attachments": {},
   "cell_type": "markdown",
   "metadata": {},
   "source": [
    "The first half of this notebook is based on the [Cartopy tutorial created by Project Pythia](https://foundations.projectpythia.org/core/cartopy.html), which introduces the core concepts behind Cartopy. \n",
    "\n",
    "The second half shows how to make maps and figures that comply with the Standards Guide for USGS illustrations."
   ]
  },
  {
   "attachments": {},
   "cell_type": "markdown",
   "metadata": {},
   "source": [
    "# Cartopy"
   ]
  },
  {
   "attachments": {},
   "cell_type": "markdown",
   "metadata": {},
   "source": [
    "From the Cartopy website:\n",
    "\n",
    ">Cartopy is a Python package designed for geospatial data processing in order to produce maps and other geospatial data analyses.\n",
    ">\n",
    ">Cartopy makes use of the powerful PROJ.4, NumPy and Shapely libraries and includes a programmatic interface built on top of Matplotlib for the creation of publication quality maps.\n",
    ">\n",
    ">Key features of Cartopy are its object-oriented projection definitions, and its ability to transform points, lines, vectors, polygons and images between those projections.\n"
   ]
  },
  {
   "attachments": {},
   "cell_type": "markdown",
   "metadata": {},
   "source": [
    "Cartopy allows us to make figures that are (theoretically) publication-ready, without having to touch any other software!"
   ]
  },
  {
   "attachments": {},
   "cell_type": "markdown",
   "metadata": {},
   "source": [
    "## map projections and `GeoAxes`"
   ]
  },
  {
   "attachments": {},
   "cell_type": "markdown",
   "metadata": {},
   "source": [
    "## Extending matplotlib `axes` into georeferenced `GeoAxes`"
   ]
  },
  {
   "attachments": {},
   "cell_type": "markdown",
   "metadata": {},
   "source": [
    "A figure in Matplotlib has two elements: a `Figure` object, and a list of one or more `Axes` objects (subplots).\n",
    "\n",
    "Since we imported `cartopy.crs`, we now have access to Cartopy’s Coordinate Reference System, which contains many geographical projections. We can specify one of these projections for an Axes object to convert it into a GeoAxes object. This will georeference the subplot."
   ]
  },
  {
   "cell_type": "code",
   "execution_count": null,
   "metadata": {},
   "outputs": [],
   "source": [
    "fig = plt.figure(figsize=(11, 8.5))\n",
    "ax = plt.subplot(1, 1, 1, projection=ccrs.PlateCarree(central_longitude=-75))\n",
    "ax.set_title(\"A Geo-referenced subplot, Plate Carree projection\");"
   ]
  },
  {
   "attachments": {},
   "cell_type": "markdown",
   "metadata": {},
   "source": [
    "Although the figure seems empty, but it has been georeferenced using a map projection provided by Cartopy’s `crs` (coordinate reference system) class (which we are using with the alias `ccrs`). \n",
    "\n",
    "We can now add in cartographic features, in the form of shapefiles, to our subplot. One such cartographic feature is coastlines, which can be added to our subplot using the callable GeoAxes method simply called coastlines."
   ]
  },
  {
   "cell_type": "code",
   "execution_count": null,
   "metadata": {},
   "outputs": [],
   "source": [
    "ax.coastlines()\n",
    "fig # calling the figure again"
   ]
  },
  {
   "attachments": {},
   "cell_type": "markdown",
   "metadata": {},
   "source": [
    "## adding features from Cartopy's library"
   ]
  },
  {
   "attachments": {},
   "cell_type": "markdown",
   "metadata": {},
   "source": [
    "Cartopy provides other cartographic features via its features class, which we imported with the alias `cfeature`. These cartographic features are laid out as data in shapefiles. The shapefiles are downloaded when their cartographic features are used for the first time in a script or notebook, and they are downloaded from https://www.naturalearthdata.com/. Once downloaded, they “live” in your ~/.local/share/cartopy directory (note the ~ represents your home directory, likely your User directory).\n",
    "\n",
    "We can add these features to our subplot via the `add_feature` method for the `GeoAxes`. We can define attributes using arguments, similar to Matplotlib’s `plot` method. \n",
    "\n",
    "A list of the various Natural Earth shapefiles can be found at https://scitools.org.uk/cartopy/docs/latest/matplotlib/feature_interface.html. In this example, we add borders and U. S. state lines to our subplot.\n",
    "\n",
    "**NOTE**: I'm not 100% sure about making use of Cartopy's features when making report-ready USGS figures. But they are definitely great for quickly putting togther a figure!"
   ]
  },
  {
   "cell_type": "code",
   "execution_count": null,
   "metadata": {},
   "outputs": [],
   "source": [
    "ax.add_feature(cfeature.BORDERS, linewidth=0.5, edgecolor='black')\n",
    "ax.add_feature(cfeature.STATES, linewidth=0.3, edgecolor='brown')\n",
    "fig"
   ]
  },
  {
   "attachments": {},
   "cell_type": "markdown",
   "metadata": {},
   "source": [
    "We can also use the `stock_img` method to add a pre-created background to a plot."
   ]
  },
  {
   "cell_type": "code",
   "execution_count": null,
   "metadata": {},
   "outputs": [],
   "source": [
    "ax.stock_img()\n",
    "fig"
   ]
  },
  {
   "attachments": {},
   "cell_type": "markdown",
   "metadata": {},
   "source": [
    "## Creating regional maps"
   ]
  },
  {
   "attachments": {},
   "cell_type": "markdown",
   "metadata": {},
   "source": [
    "Now, we'll use Cartopy’s `set_extent` method to restrict the map coverage to a North American view. We'll also set a lower resolution for coastlines. In addition, we'll plot the latitude and longitude lines.\n",
    "\n",
    "Natural Earth defines three resolutions for cartographic features, specified as the strings “10m”, “50m”, and “110m”. Only one resolution can be used at a time, and the higher the number, the less detailed the feature becomes. You can view the documentation for this functionality here: https://www.naturalearthdata.com/downloads/."
   ]
  },
  {
   "cell_type": "code",
   "execution_count": null,
   "metadata": {},
   "outputs": [],
   "source": [
    "projPC = ccrs.PlateCarree()\n",
    "lonW = -140\n",
    "lonE = -40\n",
    "latS = 15\n",
    "latN = 65\n",
    "cLat = (latN + latS) / 2\n",
    "cLon = (lonW + lonE) / 2\n",
    "res = '50m'"
   ]
  },
  {
   "cell_type": "code",
   "execution_count": null,
   "metadata": {},
   "outputs": [],
   "source": [
    "fig = plt.figure(figsize=(11, 8.5))\n",
    "ax = plt.subplot(1, 1, 1, projection=projPC)\n",
    "ax.set_title('Plate Carree')\n",
    "gl = ax.gridlines(\n",
    "    draw_labels=True, linewidth=2, color='gray', alpha=0.5, linestyle='--'\n",
    ")\n",
    "ax.set_extent([lonW, lonE, latS, latN], crs=projPC)\n",
    "ax.coastlines(resolution=res, color='black')\n",
    "ax.add_feature(cfeature.STATES, linewidth=0.3, edgecolor='brown')\n",
    "ax.add_feature(cfeature.BORDERS, linewidth=0.5, edgecolor='blue');"
   ]
  },
  {
   "attachments": {},
   "cell_type": "markdown",
   "metadata": {},
   "source": [
    "We may want to use a different projection, to avoid the skew caused by PlateCarree."
   ]
  },
  {
   "cell_type": "code",
   "execution_count": null,
   "metadata": {},
   "outputs": [],
   "source": [
    "projStr = ccrs.Stereographic(central_longitude=cLon, central_latitude=cLat)\n",
    "fig = plt.figure(figsize=(11, 8.5))\n",
    "ax = plt.subplot(1, 1, 1, projection=projStr)\n",
    "ax.set_title('Stereographic')\n",
    "gl = ax.gridlines(\n",
    "    draw_labels=True, linewidth=2, color='gray', alpha=0.5, linestyle='--'\n",
    ")\n",
    "ax.set_extent([lonW, lonE, latS, latN], crs=projPC)\n",
    "ax.coastlines(resolution=res, color='black')\n",
    "ax.add_feature(cfeature.STATES, linewidth=0.3, edgecolor='brown')\n",
    "ax.add_feature(cfeature.BORDERS, linewidth=0.5, edgecolor='blue');"
   ]
  },
  {
   "attachments": {},
   "cell_type": "markdown",
   "metadata": {},
   "source": [
    "**NOTE**: even though the calls to the subplot method can use different projections, it's good to set calls to `set_extent` with PlateCarree. This ensures that the values we passed into `set_extent` will be transformed from degrees into the values appropriate for the projection we use for the map.\n",
    "\n",
    "\n",
    "Also, Lat/lon labeling for projections other than Mercator and PlateCarree isn't always great. Work still needs to be done to improve the placement of labels, but we'll be using some special methods when creating our USGS maps later."
   ]
  },
  {
   "attachments": {},
   "cell_type": "markdown",
   "metadata": {},
   "source": [
    "## A regional map of New York"
   ]
  },
  {
   "cell_type": "code",
   "execution_count": null,
   "metadata": {},
   "outputs": [],
   "source": [
    "latN = 45.2\n",
    "latS = 40.2\n",
    "lonW = -80.0\n",
    "lonE = -71.5\n",
    "cLat = (latN + latS) / 2\n",
    "cLon = (lonW + lonE) / 2\n",
    "projLccNY = ccrs.LambertConformal(central_longitude=cLon, central_latitude=cLat)"
   ]
  },
  {
   "attachments": {},
   "cell_type": "markdown",
   "metadata": {},
   "source": [
    "### Add some predefined features"
   ]
  },
  {
   "attachments": {},
   "cell_type": "markdown",
   "metadata": {},
   "source": [
    "Some cartographical features are predefined as constants in the cartopy.feature package. The resolution of these features depends on the amount of geographical area in your map, specified by set_extent."
   ]
  },
  {
   "attachments": {},
   "cell_type": "markdown",
   "metadata": {},
   "source": [
    "**Be patient!** When plotting a small geographical area with Cartopy features, the high-resolution “10m” shapefiles are used by default. As a result, these plots take longer to create, especially if the shapefiles are not yet downloaded from Natural Earth. Similar issues can occur whenever a GeoAxes object is transformed from one coordinate system to another."
   ]
  },
  {
   "cell_type": "code",
   "execution_count": null,
   "metadata": {},
   "outputs": [],
   "source": [
    "fig = plt.figure(figsize=(15, 10))\n",
    "ax = plt.subplot(1, 1, 1, projection=projLccNY)\n",
    "ax.set_extent([lonW, lonE, latS, latN], crs=projPC)\n",
    "ax.set_facecolor(cfeature.COLORS['water'])\n",
    "ax.add_feature(cfeature.LAND)\n",
    "ax.add_feature(cfeature.COASTLINE)\n",
    "ax.add_feature(cfeature.BORDERS, linestyle='--')\n",
    "ax.add_feature(cfeature.LAKES, alpha=0.5)\n",
    "ax.add_feature(cfeature.STATES)\n",
    "ax.add_feature(cfeature.RIVERS)\n",
    "ax.set_title('New York and Vicinity');"
   ]
  },
  {
   "attachments": {},
   "cell_type": "markdown",
   "metadata": {},
   "source": [
    "**NOTE**: For high-resolution Natural Earth shapefiles such as this, while we could add Cartopy’s `OCEAN` feature, it currently takes much longer to render on the plot. (You can create your own version of this example, with the `OCEAN` feature added, to see for yourself how much more rendering time is added.)\n",
    "\n",
    "Instead, we first set the facecolor of the entire subplot to match that of water bodies in Cartopy. When we layer on the `LAND` feature, pixels that are not part of the LAND shapefile remain in the water facecolor, which is the same color as the OCEAN."
   ]
  },
  {
   "attachments": {},
   "cell_type": "markdown",
   "metadata": {},
   "source": [
    "## Plotting data on maps"
   ]
  },
  {
   "attachments": {},
   "cell_type": "markdown",
   "metadata": {},
   "source": [
    "Creating some data that spans the whole globe."
   ]
  },
  {
   "cell_type": "code",
   "execution_count": null,
   "metadata": {},
   "outputs": [],
   "source": [
    "lon, lat = np.mgrid[-180:181, -90:91]\n",
    "data = 2 * np.sin(3 * np.deg2rad(lon)) + 3 * np.cos(4 * np.deg2rad(lat))\n",
    "plt.contourf(lon, lat, data)\n",
    "plt.colorbar();"
   ]
  },
  {
   "attachments": {},
   "cell_type": "markdown",
   "metadata": {},
   "source": [
    "Plotting data on a Cartesian grid is equivalent to plotting data in the PlateCarree projection, where meridians and parallels are all straight lines with constant spacing. As a result of this simplicity, the global datasets we use often begin in the PlateCarree projection.\n",
    "\n",
    "We can plot these data values as a contour on a `GeoAxes` map. To do so, we must specify the `transform` keyword argument, which specifies the projection type used by our data. The `transform` keyword can be given to all matplotlib plotting methods. The projection type specified in `contourf` will be transformed into the projection type specified in the `subplot` method."
   ]
  },
  {
   "cell_type": "code",
   "execution_count": null,
   "metadata": {},
   "outputs": [],
   "source": [
    "projMoll = ccrs.Mollweide(central_longitude=0)\n",
    "fig = plt.figure(figsize=(11, 8.5))\n",
    "ax = plt.subplot(1, 1, 1, projection=projMoll)\n",
    "ax.coastlines()\n",
    "dataplot = ax.contourf(lon, lat, data, transform=ccrs.PlateCarree())\n",
    "plt.colorbar(dataplot, orientation='horizontal');"
   ]
  },
  {
   "attachments": {},
   "cell_type": "markdown",
   "metadata": {},
   "source": [
    "# USGS Figures"
   ]
  },
  {
   "attachments": {},
   "cell_type": "markdown",
   "metadata": {},
   "source": [
    "Okay, now that we know how Cartopy works, we can use it with Geopandas and Rasterio to quickly create USGS-style figures. And most importantly, if the project data ever changes, we can very quickly update our figures."
   ]
  },
  {
   "attachments": {},
   "cell_type": "markdown",
   "metadata": {},
   "source": [
    "## Univers fonts (do you have them?)"
   ]
  },
  {
   "cell_type": "markdown",
   "metadata": {},
   "source": [
    "In order to make USGS figures, you will need the Univers fonts installed. Let's check for them!"
   ]
  },
  {
   "cell_type": "code",
   "execution_count": null,
   "metadata": {},
   "outputs": [],
   "source": [
    "import matplotlib.font_manager as fm \n",
    "# grab the file names of system fonts that have the word 'univers' in them\n",
    "univers_fonts = [f for f in fm.findSystemFonts(fontpaths=None, fontext='ttf') if 'univers' in f.lower()]\n",
    "\n",
    "# now get Matplotlib's names for those fonts, these are what you use when assigning fonts \n",
    "univers_names = [fm.FontProperties(fname=f).get_name() for f in univers_fonts]\n",
    "\n",
    "dict(zip(univers_names,univers_fonts))"
   ]
  },
  {
   "cell_type": "markdown",
   "metadata": {},
   "source": [
    "If they are not currently in your system fonts, you can download them from @theCore by searching for \"Typography\". To install them on Windows, follow [these instructions](https://support.microsoft.com/en-gb/office/add-a-font-b7c5f17c-4426-4b53-967f-455339c564c1).\n"
   ]
  },
  {
   "attachments": {},
   "cell_type": "markdown",
   "metadata": {},
   "source": [
    "## Making an example map of Long Island"
   ]
  },
  {
   "attachments": {},
   "cell_type": "markdown",
   "metadata": {},
   "source": [
    "### SPN map specs"
   ]
  },
  {
   "attachments": {},
   "cell_type": "markdown",
   "metadata": {},
   "source": [
    "These are a set of SPN specifications originally put together by Joe Hughes, and can be found here: https://github.com/jdhughes-usgs/usgs_figure_specifications. \n",
    "\n",
    "I have modified them slightly, and you can make changes yourself according to any SPN spec updates that might happen in the future."
   ]
  },
  {
   "cell_type": "code",
   "execution_count": null,
   "metadata": {},
   "outputs": [],
   "source": [
    "def set_map_specifications():\n",
    "    rc_dict = {'font.family': 'Univers 47 Condensed Light',\n",
    "               'font.size': 7,\n",
    "               'axes.labelsize': 9,\n",
    "               'axes.titlesize': 9,\n",
    "               'axes.linewidth': 0.5,\n",
    "               'xtick.labelsize': 7,\n",
    "               'xtick.top': True,\n",
    "               'xtick.bottom': True,\n",
    "               'xtick.major.size': 7.2,\n",
    "               'xtick.minor.size': 3.6,\n",
    "               'xtick.major.width': 0.5,\n",
    "               'xtick.minor.width': 0.5,\n",
    "               'xtick.direction': 'in',\n",
    "               'ytick.labelsize': 7,\n",
    "               'ytick.left': True,\n",
    "               'ytick.right': True,\n",
    "               'ytick.major.size': 7.2,\n",
    "               'ytick.minor.size': 3.6,\n",
    "               'ytick.major.width': 0.5,\n",
    "               'ytick.minor.width': 0.5,\n",
    "               'ytick.direction': 'in',\n",
    "               'pdf.fonttype': 42,\n",
    "               'savefig.dpi': 300,\n",
    "               'savefig.transparent': True,\n",
    "               'legend.fontsize': 9,\n",
    "               'legend.frameon': True,\n",
    "               'legend.fancybox': False,\n",
    "               'legend.fontsize': 7.0,\n",
    "               'legend.framealpha': 1.,\n",
    "               'legend.markerscale': 1.\n",
    "               }\n",
    "    mpl.rcParams.update(rc_dict)\n",
    "set_map_specifications()\n"
   ]
  },
  {
   "attachments": {},
   "cell_type": "markdown",
   "metadata": {},
   "source": [
    "### First, let's make a basemap that we'll overlay data on top of"
   ]
  },
  {
   "cell_type": "code",
   "execution_count": null,
   "metadata": {},
   "outputs": [],
   "source": [
    "# decimal degree extents for our map\n",
    "xmin = -74.2\n",
    "xmax = -71.7\n",
    "ymin = 40.5\n",
    "ymax = 41.3"
   ]
  },
  {
   "attachments": {},
   "cell_type": "markdown",
   "metadata": {},
   "source": [
    "Let's load in some shapefiles, clipping some of the really big ones to our extent. That minimizes the time it takes to render the figure."
   ]
  },
  {
   "attachments": {},
   "cell_type": "markdown",
   "metadata": {},
   "source": [
    "We're using [EPSG 4456](https://epsg.io/4456), which is for the New York State Plane in ft for Long Island."
   ]
  },
  {
   "cell_type": "code",
   "execution_count": null,
   "metadata": {},
   "outputs": [],
   "source": [
    "# this function clips a shapefie to a bounding box based on the map extent we set below\n",
    "\n",
    "def clip_to_li_area(shp, xmin, xmax, ymin, ymax, epsg=4456):\n",
    "    # create a Shapely polygon of the bounding box\n",
    "    polygon = Polygon([(xmin, ymin), (xmin, ymax), (xmax, ymax), (xmax, ymin), (xmin, ymin)])\n",
    "    # create a geodataframe from the bounding box polygon\n",
    "    poly_gdf = gpd.GeoDataFrame([1], geometry=[polygon], crs=ccrs.PlateCarree()).to_crs(shp.crs)\n",
    "    # clip and output with epsg specified above\n",
    "    shp_clip = shp.clip(poly_gdf.geometry).to_crs(epsg=epsg)\n",
    "    return shp_clip"
   ]
  },
  {
   "cell_type": "code",
   "execution_count": null,
   "metadata": {},
   "outputs": [],
   "source": [
    "counties = gpd.read_file('./data/mapping/shapefiles/Counties_Shoreline.shp').to_crs(epsg=4456)\n",
    "\n",
    "coastal_states = gpd.read_file('./data/mapping/shapefiles/coastal_states.shp')\n",
    "coastal_states_clip = clip_to_li_area(coastal_states, xmin, xmax, ymin, ymax)\n",
    "\n",
    "state_lines = gpd.read_file('./data/mapping/shapefiles/NorthEastStateInset_NoCoasts.shp')\n",
    "state_lines_clip = clip_to_li_area(state_lines, xmin, xmax, ymin, ymax)\n",
    "\n",
    "# the Hudson, East, and Bronx R have their own detailed shapefiles\n",
    "hudson_river = gpd.read_file('./data/mapping/shapefiles/HudsonRiver_EastRiver_BronxRiver.shp')\n",
    "\n",
    "# load in some water bodies, concatenating them together as we load\n",
    "water_bodies = pd.concat([gpd.read_file('./data/mapping/shapefiles/NHD_Waterbody_NYNJ.shp'),\n",
    "                          gpd.read_file('./data/mapping/shapefiles/NHD_Waterbody_CTRI.shp')])\n",
    "water_bodies_clip = clip_to_li_area(water_bodies, xmin, xmax, ymin, ymax)"
   ]
  },
  {
   "cell_type": "code",
   "execution_count": null,
   "metadata": {},
   "outputs": [],
   "source": [
    "# some of our our shapefiles are in PlateCarree, while others are in EPSG:4456\n",
    "basemap_crs = ccrs.PlateCarree()\n",
    "element_crs = ccrs.epsg(4456)"
   ]
  },
  {
   "attachments": {},
   "cell_type": "markdown",
   "metadata": {},
   "source": [
    "Let's first plot the states and LI counties with slightly different colors using the Geopandas `plot` method.\n",
    "\n",
    "Notice that we're using the `transform` kwarg to tell Cartopy what CRS the shapefile is in.\n",
    "\n",
    "We're also using `rasterized=True` so that if/when we plot this out to PDF, the shapefiles will be in rasters rather than vectors. When done for shapefiles that have many features, this VASTLY improves the rendering of figures in a final report PDF, eliminating the loading times you may have experienced while scrolling through a PDF if highly vectorized figures."
   ]
  },
  {
   "cell_type": "code",
   "execution_count": null,
   "metadata": {},
   "outputs": [],
   "source": [
    "fig = plt.figure(dpi=150,figsize=(7.5,10))\n",
    "ax = fig.add_subplot(1,1,1,projection=ccrs.Mercator())\n",
    "\n",
    "ax.set_extent([xmin, xmax, ymin, ymax], crs=basemap_crs)\n",
    "ax.fill_between([xmin,xmax],[ymax,ymax],[ymin,ymin],color='#C2E8FA',transform=basemap_crs,zorder=-1)\n",
    "\n",
    "# plot non-LI NY counties\n",
    "other_cos = ['New York','Bronx','Westchester','Rockland','Orange','Richmond','Putnam']\n",
    "counties[counties['NAME'].isin(other_cos)].plot(\n",
    "    ax=ax,fc='#B4B3B4',ec='grey',lw=0,transform=element_crs,zorder=0,rasterized=True, legend=False)\n",
    "\n",
    "# plot other states\n",
    "coastal_states_clip[coastal_states_clip['STATE_COD'].isin(['NJ','CT','RI'])].plot(\n",
    "    ax=ax,fc='#B4B3B4',ec='none',lw=1,transform=element_crs,zorder=0,rasterized=True, legend=False)\n",
    "\n",
    "# plot LI counties\n",
    "counties[counties['NAME'].isin(['Kings','Queens','Nassau','Suffolk'])].plot(\n",
    "    ax=ax,fc='whitesmoke',ec='grey',lw=0,transform=element_crs,zorder=0,rasterized=True, legend=False)\n",
    "state_lines_clip.plot(\n",
    "    ax=ax, fc='none', ec='k', ls='dashdot', lw=1, transform=element_crs, zorder=0, rasterized=True, legend=False)\n",
    "hudson_river.plot(\n",
    "    ax=ax, fc='#C2E8FA', ec='none', transform=element_crs, zorder=0, rasterized=True, legend=False)\n",
    "water_bodies_clip.plot(\n",
    "    ax=ax, fc='#C2E8FA', ec='none', transform=element_crs, zorder=0, rasterized=True, legend=False)\n"
   ]
  },
  {
   "attachments": {},
   "cell_type": "markdown",
   "metadata": {},
   "source": [
    "That looks pretty nice, but we don't have much context, like lat/lon ticks, labels, scale bar, and a note on credits. Let's add those."
   ]
  },
  {
   "attachments": {},
   "cell_type": "markdown",
   "metadata": {},
   "source": [
    "For the ticks, we'll be using the `LongitudeFormatter` and `LatitudeFormatter` available for Cartopy, which are a large imrovement over the default tickers we saw above."
   ]
  },
  {
   "cell_type": "code",
   "execution_count": null,
   "metadata": {},
   "outputs": [],
   "source": [
    "# TICKS\n",
    "ax.set_xticks(np.arange(-74.0, -71.5, .5), crs=ccrs.PlateCarree())\n",
    "ax.set_yticks(np.arange(40.50, 41.5, 0.5), crs=ccrs.PlateCarree())\n",
    "lon_formatter = LongitudeFormatter(zero_direction_label=True,dms=True)\n",
    "lat_formatter = LatitudeFormatter(dms=True)\n",
    "ax.xaxis.set_major_formatter(lon_formatter)\n",
    "ax.yaxis.set_major_formatter(lat_formatter)\n",
    "ax.tick_params(axis='both',which='both',labelbottom=False,labeltop=True,zorder=3)\n",
    "\n",
    "fig"
   ]
  },
  {
   "cell_type": "code",
   "execution_count": null,
   "metadata": {},
   "outputs": [],
   "source": [
    "# State labels\n",
    "ax.annotate('NEW\\nJERSEY', xy=(.05,.5), xycoords='axes fraction',\n",
    "            ha='center',va='bottom', family='Times New Roman', weight='bold',fontsize=8)\n",
    "ax.annotate('NEW\\nYORK', xy=(.18,.8), xycoords='axes fraction',\n",
    "            ha='center',va='bottom', family='Times New Roman', weight='bold',fontsize=8)\n",
    "ax.annotate('CONNECTICUT', xy=(.38,.9), xycoords='axes fraction',\n",
    "            ha='center',va='bottom', family='Times New Roman', weight='bold',fontsize=8)\n",
    "\n",
    "# # water bodies\n",
    "ax.annotate('LONG ISLAND SOUND', color='#0668B3', xy=(.5,.7), xycoords='axes fraction',\n",
    "            ha='center',va='bottom',rotation=18,fontstyle='italic',family='Times New Roman',fontsize=8)\n",
    "ax.annotate('ATLANTIC OCEAN', color='#0668B3', xy=(.5,.1), xycoords='axes fraction',\n",
    "            ha='center',va='bottom',rotation=18,fontstyle='italic',family='Times New Roman',fontsize=8)\n",
    "\n",
    "fig"
   ]
  },
  {
   "attachments": {},
   "cell_type": "markdown",
   "metadata": {},
   "source": [
    "Scalebars can be a real pain to create, but I've updated the scalebar function created by the [Shakemap](https://github.com/usgs/shakemap) folks to make a scalebar that includes both miles and kilometers. \n",
    "\n",
    "You might have to play around with the `end_off` kwarg to define how much offset you need on the last number of the scalebar (I haven't figured out how to avoid the manual tinkering, I welcome any suggestions you might have!). \n",
    "\n",
    "The python script that we're using for this is located in `dependencies/cartopy_addons`."
   ]
  },
  {
   "cell_type": "code",
   "execution_count": null,
   "metadata": {},
   "outputs": [],
   "source": [
    "# SCALEBAR\n",
    "# first define how long a distance you would like to represent\n",
    "length = 15.\n",
    "# then define how many divisions\n",
    "divisions = 3\n",
    "# draw the miles\n",
    "draw_scale(ax, pos='lr', locx=0.75, locy=-0.1, units='mi',lw=.5,font_size=7,\n",
    "        direction='up',divisions=divisions,bar_length=length,end_off=1.5)\n",
    "# then draw the kilometers\n",
    "draw_scale(ax, pos='lr', locx=0.75, locy=-0.1, units='km',lw=.5,font_size=7,\n",
    "        direction='down',divisions=divisions,bar_length=length,end_off=1.5)\n",
    "\n",
    "fig"
   ]
  },
  {
   "attachments": {},
   "cell_type": "markdown",
   "metadata": {},
   "source": [
    "Finally, let's add the credits for the basemap parts."
   ]
  },
  {
   "cell_type": "code",
   "execution_count": null,
   "metadata": {},
   "outputs": [],
   "source": [
    "# Credit note\n",
    "ax.annotate(\n",
    "    'Base map modified from U.S. Geological Survey National Atlas digital data files \\\n",
    "    \\nNew York [Long Island] State Plane projection \\\n",
    "    \\nNorth American Datum of 1988',\n",
    "    xy=(0,-0.01),\n",
    "    xycoords='axes fraction',\n",
    "    ha='left',\n",
    "    va='top',\n",
    ")\n",
    "fig"
   ]
  },
  {
   "attachments": {},
   "cell_type": "markdown",
   "metadata": {},
   "source": [
    "### combine it all into a single basemap function!"
   ]
  },
  {
   "cell_type": "code",
   "execution_count": null,
   "metadata": {},
   "outputs": [],
   "source": [
    "basemap_crs = ccrs.PlateCarree()\n",
    "element_crs = ccrs.epsg(4456)\n",
    "\n",
    "def make_base(ax,plot_states=True,basemap_crs=basemap_crs,element_crs=element_crs,xmin=xmin,xmax=xmax,ymin=ymin,ymax=ymax):\n",
    "    ax.set_extent([xmin, xmax, ymin, ymax], crs=basemap_crs)\n",
    "    ax.fill_between([xmin,xmax],[ymax,ymax],[ymin,ymin],color='#C2E8FA',transform=basemap_crs,zorder=-1)\n",
    "    \n",
    "    # plot non-LI counties\n",
    "    if plot_states:\n",
    "        other_cos = ['New York','Bronx','Westchester','Rockland','Orange','Richmond','Putnam']\n",
    "        counties[counties['NAME'].isin(other_cos)].plot(\n",
    "            ax=ax,fc='#B4B3B4',ec='grey',lw=0,transform=element_crs,zorder=0,rasterized=True, legend=False)\n",
    "        # plot other states\n",
    "        coastal_states_clip[coastal_states_clip['STATE_COD'].isin(['NJ','CT','RI'])].plot(\n",
    "            ax=ax,fc='#B4B3B4',ec='none',lw=1,transform=element_crs,zorder=0,rasterized=True, legend=False)\n",
    "        # plot LI counties\n",
    "        counties[counties['NAME'].isin(['Kings','Queens','Nassau','Suffolk'])].plot(\n",
    "            ax=ax,fc='whitesmoke',ec='grey',lw=0,transform=element_crs,zorder=0,rasterized=True, legend=False)\n",
    "        state_lines_clip.plot(\n",
    "            ax=ax, fc='none', ec='k', ls='dashdot', lw=1, transform=element_crs, zorder=0, rasterized=True, legend=False)\n",
    "        hudson_river.plot(\n",
    "            ax=ax, fc='#C2E8FA', ec='none', transform=element_crs, zorder=0, rasterized=True, legend=False)\n",
    "        water_bodies_clip.plot(\n",
    "            ax=ax, fc='#C2E8FA', ec='none', transform=element_crs, zorder=0, rasterized=True, legend=False)\n",
    "    \n",
    "    # TICKS\n",
    "    ax.set_xticks(np.arange(-74.0, -71.5, .5), crs=ccrs.PlateCarree())\n",
    "    ax.set_yticks(np.arange(40.50, 41.5, 0.5), crs=ccrs.PlateCarree())\n",
    "    lon_formatter = LongitudeFormatter(zero_direction_label=True,dms=True)\n",
    "    lat_formatter = LatitudeFormatter(dms=True)\n",
    "    ax.xaxis.set_major_formatter(lon_formatter)\n",
    "    ax.yaxis.set_major_formatter(lat_formatter)\n",
    "    ax.tick_params(axis='both',which='both',labelbottom=False,labeltop=True,zorder=3)\n",
    "    \n",
    "    # State labels\n",
    "    ax.annotate('NEW\\nJERSEY', xy=(.05,.5), xycoords='axes fraction',\n",
    "                ha='center',va='bottom', family='Times New Roman', weight='bold',fontsize=8)\n",
    "    ax.annotate('NEW\\nYORK', xy=(.15,.8), xycoords='axes fraction',\n",
    "                ha='center',va='bottom', family='Times New Roman', weight='bold',fontsize=8)\n",
    "    ax.annotate('CONNECTICUT', xy=(.4,.9), xycoords='axes fraction',\n",
    "                ha='center',va='bottom', family='Times New Roman', weight='bold',fontsize=8)\n",
    "    \n",
    "    # # water bodies\n",
    "    ax.annotate('LONG ISLAND SOUND', color='#0668B3', xy=(.5,.7), xycoords='axes fraction',\n",
    "                ha='center',va='bottom',rotation=18,fontstyle='italic',family='Times New Roman',fontsize=8)\n",
    "    ax.annotate('ATLANTIC OCEAN', color='#0668B3', xy=(.5,.1), xycoords='axes fraction',\n",
    "                ha='center',va='bottom',rotation=18,fontstyle='italic',family='Times New Roman',fontsize=8)\n",
    "    \n",
    "    # SCALEBAR\n",
    "    length = 15.\n",
    "    divisions = 3\n",
    "    draw_scale(ax, pos='lr', locx=0.75, locy=-0.1, units='mi',lw=.5,font_size=7,\n",
    "            direction='up',divisions=divisions,bar_length=length,end_off=1.5)\n",
    "    draw_scale(ax, pos='lr', locx=0.75, locy=-0.1, units='km',lw=.5,font_size=7,\n",
    "            direction='down',divisions=divisions,bar_length=length,end_off=1.5)\n",
    "    \n",
    "    # Credit note\n",
    "    ax.annotate(\n",
    "        'Base map modified from U.S. Geological Survey National Atlas digital data files \\\n",
    "        \\nNew York [Long Island] State Plane projection \\\n",
    "        \\nNorth American Datum of 1988',\n",
    "        xy=(0,-0.01),\n",
    "        xycoords='axes fraction',\n",
    "        ha='left',\n",
    "        va='top',\n",
    "    )"
   ]
  },
  {
   "attachments": {},
   "cell_type": "markdown",
   "metadata": {},
   "source": [
    "## Adding some well locations from NWIS to the basemap"
   ]
  },
  {
   "attachments": {},
   "cell_type": "markdown",
   "metadata": {},
   "source": [
    "Let's grab all the recent NWIS wells in the Long Island counties. `dataretrieval` allows you to use 5-digit county codes, with the [FIPS state code](https://en.wikipedia.org/wiki/Federal_Information_Processing_Standard_state_code) as the first two digits. The remaining three digits can be found here: https://help.waterdata.usgs.gov/code/county_query?fmt=html.\n",
    "\n"
   ]
  },
  {
   "cell_type": "code",
   "execution_count": null,
   "metadata": {},
   "outputs": [],
   "source": [
    "county_codes = [f'36{cd}' for cd in ['047', '081', '059', '103']]\n",
    "# get info about all sites with data in 2023\n",
    "info, meta = nwis.get_info(\n",
    "    countyCd=county_codes,\n",
    "    siteType='GW',\n",
    "    startDt='2023-01-01'\n",
    ")\n",
    "\n",
    "# add them to a geodataframe\n",
    "wells = gpd.GeoDataFrame(\n",
    "    info[['site_no', 'station_nm', 'dec_lat_va', 'dec_long_va']], \n",
    "    geometry=gpd.points_from_xy(info['dec_long_va'], info['dec_lat_va']), \n",
    "    crs=ccrs.PlateCarree()\n",
    ")"
   ]
  },
  {
   "cell_type": "code",
   "execution_count": null,
   "metadata": {},
   "outputs": [],
   "source": [
    "fig = plt.figure(dpi=150,figsize=(7.5,10))\n",
    "\n",
    "ax = fig.add_subplot(1,1,1,projection=ccrs.Mercator())\n",
    "\n",
    "make_base(ax, plot_states=True)\n",
    "\n",
    "wells.plot(ax=ax, transform=ccrs.PlateCarree(), edgecolor='k', lw=.5, facecolor='tab:blue', markersize=5, alpha=.8)"
   ]
  },
  {
   "attachments": {},
   "cell_type": "markdown",
   "metadata": {},
   "source": [
    "## Now let's add a raster of 2019 population estimates"
   ]
  },
  {
   "attachments": {},
   "cell_type": "markdown",
   "metadata": {},
   "source": [
    "We'll load this population density raster (population per square mile) using rasterio and plot it with `pcolormesh`. "
   ]
  },
  {
   "cell_type": "code",
   "execution_count": null,
   "metadata": {},
   "outputs": [],
   "source": [
    "with rasterio.open('./data/mapping/rasters/li_pop2019.tif', 'r') as src:\n",
    "    raster_epsg = src.crs.to_epsg()\n",
    "    pop2019 = src.read(1)\n",
    "    # save the dimensions of the raster\n",
    "    height = pop2019.shape[0]\n",
    "    width = pop2019.shape[1]\n",
    "    # create meshgrids with those dimensions\n",
    "    cols, rows = np.meshgrid(np.arange(width), np.arange(height))\n",
    "    # transform those meshgrids to Xs and Ys using the geospatial transform stored in the raster\n",
    "    xs, ys = rasterio.transform.xy(src.transform, rows, cols)"
   ]
  },
  {
   "cell_type": "code",
   "execution_count": null,
   "metadata": {},
   "outputs": [],
   "source": [
    "\n",
    "fig = plt.figure(figsize=(7.5,10), dpi=150)\n",
    "ax = fig.add_subplot(1,1,1,projection=ccrs.Mercator())\n",
    "\n",
    "make_base(ax, plot_states=True)\n",
    "\n",
    "# plot the raster array\n",
    "mesh = ax.pcolormesh(\n",
    "    xs, ys,\n",
    "    pop2019,\n",
    "    cmap='Reds',\n",
    "    vmin=0,vmax=50000,\n",
    "    transform=ccrs.epsg(raster_epsg),\n",
    "    rasterized=True,\n",
    ")"
   ]
  },
  {
   "attachments": {},
   "cell_type": "markdown",
   "metadata": {},
   "source": [
    "Hm, we don't want the raster blocking all the rest of our map elements though! We'll use rasterio to create a raster \"in memory\", masking out the parts we don't want."
   ]
  },
  {
   "cell_type": "code",
   "execution_count": null,
   "metadata": {},
   "outputs": [],
   "source": [
    "# first we need to grab the metadata from the raster\n",
    "with rasterio.open('./data/mapping/rasters/li_pop2019.tif', 'r') as src:\n",
    "    ras_meta = src.profile\n",
    "    \n",
    "# our mask will be created using the Long Island counties shapefile\n",
    "mask_shp = counties.loc[counties['NAME'].isin(['Kings','Queens','Nassau','Suffolk'])]\n",
    "\n",
    "# now let's create that \"in memory\" raster\n",
    "with MemoryFile() as memfile:\n",
    "    \n",
    "    # write the population data to the raster\n",
    "    with memfile.open(**ras_meta) as dst:\n",
    "        dst.write(pop2019, 1)\n",
    "        \n",
    "        # mask the raster using the shapefile\n",
    "        pop2019_mask, _ = rasterio.mask.mask(\n",
    "            dataset=dst,\n",
    "            shapes=mask_shp.loc[:,'geometry'],\n",
    "            all_touched=True,\n",
    "            nodata=np.nan,\n",
    "            indexes=1,\n",
    "            \n",
    "        ) "
   ]
  },
  {
   "attachments": {},
   "cell_type": "markdown",
   "metadata": {},
   "source": [
    "Now let's plot it again, and add the NWIS wells this time."
   ]
  },
  {
   "cell_type": "code",
   "execution_count": null,
   "metadata": {},
   "outputs": [],
   "source": [
    "fig = plt.figure(figsize=(7.5,10), dpi=300)\n",
    "ax = fig.add_subplot(1,1,1,projection=ccrs.Mercator())\n",
    "\n",
    "make_base(ax, plot_states=True)\n",
    "\n",
    "# now plot the \n",
    "mesh = ax.pcolormesh(\n",
    "    xs, ys,\n",
    "    pop2019_mask,\n",
    "    cmap='Reds',\n",
    "    vmin=vmin,vmax=60000,\n",
    "    transform=ccrs.epsg(raster_epsg),\n",
    "    rasterized=True,\n",
    ")\n",
    "\n",
    "# and add the wells this time\n",
    "wells.plot(ax=ax, transform=ccrs.PlateCarree(), edgecolor='k', lw=.5, facecolor='tab:blue', markersize=5, alpha=.8)"
   ]
  },
  {
   "attachments": {},
   "cell_type": "markdown",
   "metadata": {},
   "source": [
    "Now all we are missing is an Explanation. This can be VERY finicky in python unfortunately, but once you have it figured out for one figure, it isn't that hard to adjust for future ones.\n",
    "\n",
    "Creating a nice title is especially difficult, and we will need to create a `class` to do so."
   ]
  },
  {
   "cell_type": "code",
   "execution_count": null,
   "metadata": {},
   "outputs": [],
   "source": [
    "class LegendTitle(object):\n",
    "    def __init__(self, text_props=None):\n",
    "        self.text_props = text_props or {}\n",
    "        super(LegendTitle, self).__init__()\n",
    "\n",
    "    def legend_artist(self, legend, orig_handle, fontsize, handlebox):\n",
    "        x0, y0 = handlebox.xdescent, handlebox.ydescent\n",
    "        title = mpl.text.Text(x0, y0, orig_handle, **self.text_props)\n",
    "        handlebox.add_artist(title)\n",
    "        return title"
   ]
  },
  {
   "cell_type": "code",
   "execution_count": null,
   "metadata": {},
   "outputs": [],
   "source": [
    "fig = plt.figure(figsize=(7.5,10), dpi=300)\n",
    "ax = fig.add_subplot(1,1,1,projection=ccrs.Mercator())\n",
    "make_base(ax, plot_states=True)\n",
    "mesh = ax.pcolormesh(\n",
    "    xs, ys,\n",
    "    pop2019_mask,\n",
    "    cmap='Reds',\n",
    "    vmin=vmin,vmax=60000,\n",
    "    transform=ccrs.epsg(raster_epsg),\n",
    "    rasterized=True,\n",
    ")\n",
    "wells.plot(ax=ax, transform=ccrs.PlateCarree(), edgecolor='k', lw=.5, facecolor='tab:blue', markersize=5, alpha=.8)\n",
    "\n",
    "\n",
    "\n",
    "# add the explanation\n",
    "# first set how large your colorbar will be\n",
    "cbx = 0.88\n",
    "cby = .05\n",
    "cbw = .05\n",
    "cbh = .28\n",
    "# then set how many lines your legend needs and extra side padding. this will be trial and error! \n",
    "leg_rows = 6\n",
    "leg_width_extra = 12\n",
    "handles = [Line2D([], [], linewidth=0, markeredgecolor='k', markeredgewidth=.5, markerfacecolor='tab:blue', marker='o', markersize=3)] + \\\n",
    "          ['Pop. density,'] + ['per sq mile'] + ['']*leg_rows\n",
    "labels = ['NWIS well'] + [' '*(len(handles[1])+leg_width_extra)]*(leg_rows+1)\n",
    "leg = ax.legend(\n",
    "    handles,labels,loc='lower left',\n",
    "    fontsize=7,\n",
    "    bbox_to_anchor=(cbx-.05,cby-.04),\n",
    "    title='EXPLANATION',\n",
    "    edgecolor='k',\n",
    "    handleheight=1,\n",
    "    title_fontproperties={'family': 'Univers 67 Condensed',\n",
    "                          'size': 8},\n",
    "    prop={'family':'Univers 57 Condensed'},\n",
    "    handler_map={str: LegendTitle({'fontsize': 7, 'family':'Univers 67 Condensed'})})\n",
    "leg.get_frame().set_linewidth(.5)\n",
    "cax = ax.inset_axes((cbx, cby, cbw, cbh),zorder=99)\n",
    "fig.colorbar(mesh, cax=cax, orientation='vertical')"
   ]
  },
  {
   "attachments": {},
   "cell_type": "markdown",
   "metadata": {},
   "source": [
    "## This figure can be saved as a PDF and easily opened in Adobe Illustrator for any final touches you might need."
   ]
  },
  {
   "cell_type": "code",
   "execution_count": null,
   "metadata": {},
   "outputs": [],
   "source": [
    "fig.savefig('./data/mapping/test_figure2.pdf', bbox_inches='tight', dpi=300)"
   ]
  },
  {
   "attachments": {},
   "cell_type": "markdown",
   "metadata": {},
   "source": [
    "What happens to the PDF if you comment out the `rasterized` above in `pcolormesh`?"
   ]
  },
  {
   "attachments": {},
   "cell_type": "markdown",
   "metadata": {},
   "source": [
    "## BONUS: Maybe we want to adjust the lines to be a very specific pattern specified by SPN?"
   ]
  },
  {
   "attachments": {},
   "cell_type": "markdown",
   "metadata": {},
   "source": [
    "The formatting of more complicated line styles is outlined here: https://matplotlib.org/stable/gallery/lines_bars_and_markers/linestyles.html. \n",
    "\n",
    "In a plot method, the keyword arg `linestyle` (or alias `ls`) is fed a pattern of line and space lengths.\n",
    "\n",
    "For example, `(0, (3, 10, 1, 15))` means (3pt line, 10pt space, 1pt line, 15pt space) with no offset, while `(5, (10, 3))`, means (10pt line, 3pt space), but skip the first 5pt line."
   ]
  },
  {
   "cell_type": "code",
   "execution_count": null,
   "metadata": {},
   "outputs": [],
   "source": [
    "fig = plt.figure(dpi=150,figsize=(7.5,10))\n",
    "ax = fig.add_subplot(1,1,1,projection=ccrs.Mercator())\n",
    "\n",
    "ax.set_extent([xmin, xmax, ymin, ymax], crs=basemap_crs)\n",
    "ax.set_facecolor('#C2E8FA')\n",
    "\n",
    "# plot non-LI NY counties\n",
    "other_cos = ['New York','Bronx','Westchester','Rockland','Orange','Richmond','Putnam']\n",
    "counties[counties['NAME'].isin(other_cos)].plot(\n",
    "    ax=ax,fc='#B4B3B4',ec='grey',lw=0,transform=element_crs,zorder=0,rasterized=True, legend=False)\n",
    "\n",
    "# plot other states\n",
    "coastal_states_clip[coastal_states_clip['STATE_COD'].isin(['NJ','CT','RI'])].plot(\n",
    "    ax=ax,fc='#B4B3B4',ec='none',lw=1,transform=element_crs,zorder=0,rasterized=True, legend=False)\n",
    "\n",
    "# plot LI counties\n",
    "counties[counties['NAME'].isin(['Kings','Queens','Nassau','Suffolk'])].plot(\n",
    "    ax=ax,fc='whitesmoke',ec='grey',lw=0,transform=element_crs,zorder=0,rasterized=True, legend=False)\n",
    "hudson_river.plot(\n",
    "    ax=ax, fc='#C2E8FA', ec='none', transform=element_crs, zorder=0, rasterized=True, legend=False)\n",
    "water_bodies_clip.plot(\n",
    "    ax=ax, fc='#C2E8FA', ec='none', transform=element_crs, zorder=0, rasterized=True, legend=False)\n",
    "\n",
    "# try playing around with the state lines here\n",
    "state_lines_clip.plot(\n",
    "    ax=ax, fc='none', ec='k', linestyle=(0, (3, 4, 1, 5)), lw=1, transform=element_crs, zorder=0, rasterized=True, legend=False)\n"
   ]
  },
  {
   "attachments": {},
   "cell_type": "markdown",
   "metadata": {},
   "source": [
    "## Class activity (or own your own): Make your own figure! \n",
    "\n",
    "Load in some shapefiles that you'd like to display and show them on a figure by setting the appropriate extent."
   ]
  },
  {
   "cell_type": "markdown",
   "metadata": {},
   "source": []
  }
 ],
 "metadata": {
  "kernelspec": {
   "display_name": "Python 3.10.5 ('viz')",
   "language": "python",
   "name": "python3"
  },
  "language_info": {
   "codemirror_mode": {
    "name": "ipython",
    "version": 3
   },
   "file_extension": ".py",
   "mimetype": "text/x-python",
   "name": "python",
   "nbconvert_exporter": "python",
   "pygments_lexer": "ipython3",
   "version": "3.10.10"
  },
  "orig_nbformat": 4,
  "vscode": {
   "interpreter": {
    "hash": "7cbc2d6b7afc0546210855b10c1b01b676f8ac4e6fe0537b995b42e2d6f1de93"
   }
  }
 },
 "nbformat": 4,
 "nbformat_minor": 2
}
